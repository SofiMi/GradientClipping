{
 "cells": [
  {
   "cell_type": "markdown",
   "id": "0d3f253b",
   "metadata": {},
   "source": [
    "# Stochastic Optimization with Heavy-Tailed Noise via Accelerated Gradient Clipping"
   ]
  },
  {
   "cell_type": "markdown",
   "id": "d8c4ed56",
   "metadata": {},
   "source": [
    "### 1. Постановка задача\n",
    "\n",
    "$$\\min_{x \\in \\mathbb{R}^n}f(x), \\quad f(x) = \\mathbb{E}_{\\xi}[f(x, \\xi)],$$\n",
    "где $f(x)$\n",
    "  - выпуклая\n",
    "  - гладкая\n",
    "  - $\\forall x \\in \\mathbb{R}^n \\rightarrow \\exists \\nabla f(x, \\xi): \\mathbb{E}_{\\xi}[\\nabla f(x, \\xi)] = \\nabla f(x), \\quad \\mathbb{E}_{\\xi}[\\|\\nabla f(x, \\xi) - \\nabla f(x)\\|^2_2] \\leq \\sigma^2$\n"
   ]
  },
  {
   "cell_type": "markdown",
   "id": "7aee2cb2",
   "metadata": {},
   "source": [
    "**Опр.** Случайный вектор $\\xi$ принадлежит **распределению с легкими хвостами**, если\n",
    "  1. $\\mathbb{E}[\\xi]$\n",
    "  2. $\\forall b > 0 \\rightarrow \\mathbb{P}\\{\\|\\xi - \\mathbb{E}[\\xi]\\|_2 > b\\} \\leq 2 exp(-\\frac{b^2}{2\\sigma^2})$ "
   ]
  },
  {
   "cell_type": "markdown",
   "id": "4a510332",
   "metadata": {},
   "source": [
    "Что эквивалентно условию [1]\n",
    "\n",
    "$$\\mathbb{E}[exp(\\|\\xi - \\mathbb{E}[\\xi]\\|_2^2 / {\\sigma^2})] \\leq exp(1)$$"
   ]
  },
  {
   "cell_type": "markdown",
   "id": "6275cccc",
   "metadata": {},
   "source": [
    "### Базовая терминология\n",
    "\n",
    "**Опр.** Пусть дана непрерывно дифференцируемая на $\\mathbb{R}^n$ функция $ f(x) : \\mathbb{R}^n \\longrightarrow \\mathbb{R} $ . Будем говорить, что она является **выпуклой**, если для любых x, y $\\in \\mathbb{R}^n$ выполнено\n",
    "$$f(y) \\geq f(x) + \\langle \\nabla f(x), y - x \\rangle$$\n",
    "\n",
    "**Опр.** Пусть дана непрерывно дифференцируемая на $\\mathbb{R}^n$ функция  $ f(x) : \\mathbb{R}^n \\longrightarrow \\mathbb{R} $. Будем говорить, что данная функция имеет L-Липшицев градиент (говорить, что она является **L-гладкой**), если для любых x, y $\\in \\mathbb{R}^n$ выполнено\n",
    "\n",
    "$$\\|\\nabla f(x) - \\nabla f(y)\\|_2 \\leq L\\|x - y\\|_2$$"
   ]
  },
  {
   "cell_type": "markdown",
   "id": "89fd787a",
   "metadata": {},
   "source": [
    "### Ссылки на источники\n",
    "\n",
    "[0] Stochastic Optimization with Heavy-Tailed Noise via Accelerated Gradient Clipping (Eduard Gorbunov, Marina Danilova, Alexander Gasnikov)\n",
    "\n",
    "[1] Лемма 2, Chi Jin, Praneeth Netrapalli, Rong Ge, Sham M Kakade, and Michael I Jordan. A short\n",
    "note on concentration inequalities for random vectors with subgaussian norm. arXiv preprint\n",
    "arXiv:1902.03736, 2019"
   ]
  }
 ],
 "metadata": {
  "kernelspec": {
   "display_name": "Python 3 (ipykernel)",
   "language": "python",
   "name": "python3"
  },
  "language_info": {
   "codemirror_mode": {
    "name": "ipython",
    "version": 3
   },
   "file_extension": ".py",
   "mimetype": "text/x-python",
   "name": "python",
   "nbconvert_exporter": "python",
   "pygments_lexer": "ipython3",
   "version": "3.10.12"
  }
 },
 "nbformat": 4,
 "nbformat_minor": 5
}
